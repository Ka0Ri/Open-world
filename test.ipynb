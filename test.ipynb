{
 "cells": [
  {
   "cell_type": "code",
   "execution_count": 2,
   "id": "ab1b2141",
   "metadata": {},
   "outputs": [
    {
     "name": "stdout",
     "output_type": "stream",
     "text": [
      "Ultralytics 8.3.103  Python-3.11.11 torch-2.6.0+cu124 CUDA:0 (NVIDIA GeForce RTX 4070 SUPER, 12282MiB)\n",
      "YOLOe-v8s-seg summary (fused): 109 layers, 15,406,182 parameters, 1,857,958 gradients, 43.6 GFLOPs\n",
      "\n",
      "image 1/1 e:\\AISeed\\Open-world\\person-and-bus.jpg: 480x640 19 persons, 2 buss, 25.2ms\n",
      "Speed: 1.4ms preprocess, 25.2ms inference, 1.2ms postprocess per image at shape (1, 3, 480, 640)\n"
     ]
    }
   ],
   "source": [
    "from ultralytics import YOLOE\n",
    "\n",
    "# Initialize a YOLOE model\n",
    "model = YOLOE(\"yoloe-v8s-seg.pt\")  # or select yoloe-11s/m-seg.pt for different sizes\n",
    "\n",
    "# Set text prompt\n",
    "names = [\"person\", \"bus\"]\n",
    "model.set_classes(names, model.get_text_pe(names))\n",
    "\n",
    "# Execute prediction for specified categories on an image\n",
    "results = model.predict(\"person-and-bus.jpg\")\n",
    "\n",
    "# Show results\n",
    "results[0].show()"
   ]
  }
 ],
 "metadata": {
  "kernelspec": {
   "display_name": "yolo",
   "language": "python",
   "name": "python3"
  },
  "language_info": {
   "codemirror_mode": {
    "name": "ipython",
    "version": 3
   },
   "file_extension": ".py",
   "mimetype": "text/x-python",
   "name": "python",
   "nbconvert_exporter": "python",
   "pygments_lexer": "ipython3",
   "version": "3.11.11"
  }
 },
 "nbformat": 4,
 "nbformat_minor": 5
}
